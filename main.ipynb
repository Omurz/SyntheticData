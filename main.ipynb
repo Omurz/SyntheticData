{
 "cells": [
  {
   "cell_type": "code",
   "execution_count": 4,
   "metadata": {},
   "outputs": [],
   "source": [
    "import pandas as pd\n",
    "import random\n",
    "import numpy as np\n",
    "from datetime import datetime, timedelta\n",
    "\n",
    "def generate_synthetic_data(column_specs, num_rows, include_nulls=False, str_categories=None, start_date=None, end_date=None):\n",
    "    \"\"\"\n",
    "    Generate a synthetic DataFrame with customizable options.\n",
    "    \n",
    "    Arguments:\n",
    "    - column_specs: A list of tuples specifying the column name and type, e.g., [('Column1', 'int'), ('Column2', 'float'), ...].\n",
    "    - num_rows: The number of rows in the DataFrame.\n",
    "    - include_nulls: Whether to include null values in the generated DataFrame (default: False).\n",
    "    - str_categories: A list of categories to choose from for the 'str' column type (default: None).\n",
    "    - start_date: The custom start date for the 'date' column (default: None).\n",
    "    - end_date: The custom end date for the 'date' column (default: None).\n",
    "    \n",
    "    Returns:\n",
    "    - df: The generated synthetic DataFrame.\n",
    "    \"\"\"\n",
    "    data = {}\n",
    "    \n",
    "    for column_name, column_type in column_specs:\n",
    "        if column_type == 'int':\n",
    "            column_data = np.random.randint(low=0, high=100, size=num_rows)\n",
    "            if include_nulls:\n",
    "                null_indices = random.sample(range(num_rows), int(num_rows * 0.1))\n",
    "                column_data = column_data.astype('float')\n",
    "                column_data[null_indices] = np.nan\n",
    "        elif column_type == 'float':\n",
    "            column_data = np.random.rand(num_rows) * 100\n",
    "            if include_nulls:\n",
    "                null_indices = random.sample(range(num_rows), int(num_rows * 0.1))\n",
    "                column_data[null_indices] = np.nan\n",
    "        elif column_type == 'str':\n",
    "            if str_categories is None:\n",
    "                raise ValueError(\"str_categories must be provided for 'str' column type\")\n",
    "            column_data = [random.choice(str_categories) for _ in range(num_rows)]\n",
    "            if include_nulls:\n",
    "                null_indices = random.sample(range(num_rows), int(num_rows * 0.1))\n",
    "                for idx in null_indices:\n",
    "                    column_data[idx] = None\n",
    "        elif column_type == 'date':\n",
    "            if start_date is None or end_date is None:\n",
    "                raise ValueError(\"start_date and end_date must be provided for 'date' column type\")\n",
    "            start_datetime = datetime.strptime(start_date, '%Y-%m-%d')\n",
    "            end_datetime = datetime.strptime(end_date, '%Y-%m-%d')\n",
    "            date_range = end_datetime - start_datetime\n",
    "            random_dates = [start_datetime + timedelta(days=random.randint(0, date_range.days)) for _ in range(num_rows)]\n",
    "            column_data = pd.to_datetime(random_dates).date\n",
    "        elif column_type == 'int_uniq':\n",
    "            column_data = np.arange(0, num_rows)\n",
    "        elif column_type == 'bool':\n",
    "            column_data = np.random.choice(a=[False,True], size=(num_rows))\n",
    "        else:\n",
    "            raise ValueError(f\"Invalid column type: {column_type}\")\n",
    "        \n",
    "        data[column_name] = column_data\n",
    "    \n",
    "    df = pd.DataFrame(data)\n",
    "    return df"
   ]
  },
  {
   "cell_type": "code",
   "execution_count": 5,
   "metadata": {},
   "outputs": [
    {
     "name": "stdout",
     "output_type": "stream",
     "text": [
      "   Column1    Column2 Column3     Column4  Column5  Column6\n",
      "0       22  98.031548   apple  2022-06-19        0     True\n",
      "1        0   2.752155  orange  2022-04-12        1    False\n",
      "2       21  58.614595  banana  2022-01-04        2     True\n",
      "3       94  52.388997  orange  2022-03-19        3    False\n",
      "4       30  63.477080  cherry  2022-06-12        4     True\n",
      "5       62  24.954451  orange  2022-10-03        5    False\n",
      "6       47  92.611123  orange  2022-09-01        6    False\n",
      "7       33  52.049905  cherry  2022-06-11        7     True\n",
      "8       44  58.919741  orange  2022-01-10        8    False\n",
      "9       53   9.655294  banana  2022-02-14        9    False\n"
     ]
    }
   ],
   "source": [
    "# test\n",
    "column_specs = [\n",
    "    ('Column1', 'int'),\n",
    "    ('Column2', 'float'),\n",
    "    ('Column3', 'str'),\n",
    "    ('Column4', 'date'),\n",
    "    ('Column5', 'int_uniq'),\n",
    "    ('Column6', 'bool')\n",
    "]\n",
    "num_rows = 10\n",
    "include_nulls = False\n",
    "str_categories = ['apple', 'banana', 'cherry', 'orange']\n",
    "start_date = '2022-01-01'\n",
    "end_date = '2022-12-31'\n",
    "\n",
    "df = generate_synthetic_data(column_specs, num_rows, include_nulls, str_categories, start_date, end_date)\n",
    "\n",
    "print(df)"
   ]
  }
 ],
 "metadata": {
  "kernelspec": {
   "display_name": "Python 3",
   "language": "python",
   "name": "python3"
  },
  "language_info": {
   "codemirror_mode": {
    "name": "ipython",
    "version": 3
   },
   "file_extension": ".py",
   "mimetype": "text/x-python",
   "name": "python",
   "nbconvert_exporter": "python",
   "pygments_lexer": "ipython3",
   "version": "3.9.13"
  },
  "orig_nbformat": 4
 },
 "nbformat": 4,
 "nbformat_minor": 2
}
